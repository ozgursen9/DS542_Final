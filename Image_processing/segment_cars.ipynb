{
  "nbformat": 4,
  "nbformat_minor": 0,
  "metadata": {
    "colab": {
      "provenance": []
    },
    "kernelspec": {
      "name": "python3",
      "display_name": "Python 3"
    },
    "language_info": {
      "name": "python"
    }
  },
  "cells": [
    {
      "cell_type": "markdown",
      "source": [
        "Segmenting Cars using Meta AI's Segment Anyting Model (SAM)"
      ],
      "metadata": {
        "id": "mk5HRzRKTSWh"
      }
    },
    {
      "cell_type": "markdown",
      "source": [
        "First, we are trying to trying to bound the car object in the image. We are achieving this using yolov4 model. If the car is detected than we are asking the SAM to segment only the object that is in the bounding box. If it can't detect the car, then it means that the image is a close shot of the car. And, in case of that kind of images the segmentation is not a problem. So, we are giving those kind of images directly to the SAM without any bounding boxes. After all of these processes, we are storing those images to a file in our google drive.\n"
      ],
      "metadata": {
        "id": "9ikcLCvNTaLA"
      }
    },
    {
      "cell_type": "code",
      "execution_count": null,
      "metadata": {
        "id": "whuCkXVwSJJO"
      },
      "outputs": [],
      "source": [
        "from google.colab import drive\n",
        "drive.mount('/content/drive')"
      ]
    },
    {
      "cell_type": "code",
      "source": [
        "!nvidia-smi"
      ],
      "metadata": {
        "id": "oV0KtxxBSfNU"
      },
      "execution_count": null,
      "outputs": []
    },
    {
      "cell_type": "code",
      "source": [
        "import os\n",
        "HOME = os.getcwd()\n",
        "print(\"HOME:\", HOME)"
      ],
      "metadata": {
        "id": "cYQCU4JKSfPS"
      },
      "execution_count": null,
      "outputs": []
    },
    {
      "cell_type": "markdown",
      "source": [
        "Install Segment Anything Model (SAM) and other dependencies\n"
      ],
      "metadata": {
        "id": "aBXYrM5TStXj"
      }
    },
    {
      "cell_type": "code",
      "source": [
        "!pip install -q 'git+https://github.com/facebookresearch/segment-anything.git'"
      ],
      "metadata": {
        "id": "uaNn87pESfRb"
      },
      "execution_count": null,
      "outputs": []
    },
    {
      "cell_type": "code",
      "source": [
        "!pip install -q jupyter_bbox_widget roboflow dataclasses-json supervision==0.23.0"
      ],
      "metadata": {
        "id": "Qdo5d7VNSfTO"
      },
      "execution_count": null,
      "outputs": []
    },
    {
      "cell_type": "markdown",
      "source": [
        "Download SAM weights"
      ],
      "metadata": {
        "id": "Ha6YeWa5Sx2w"
      }
    },
    {
      "cell_type": "code",
      "source": [
        "!mkdir -p {HOME}/weights\n",
        "!wget -q https://dl.fbaipublicfiles.com/segment_anything/sam_vit_h_4b8939.pth -P {HOME}/weights"
      ],
      "metadata": {
        "id": "mLutnUoYSfU5"
      },
      "execution_count": null,
      "outputs": []
    },
    {
      "cell_type": "code",
      "source": [
        "CHECKPOINT_PATH = os.path.join(HOME, \"weights\", \"sam_vit_h_4b8939.pth\")\n",
        "print(CHECKPOINT_PATH, \"; exist:\", os.path.isfile(CHECKPOINT_PATH))"
      ],
      "metadata": {
        "id": "SDXQRBiHSoQZ"
      },
      "execution_count": null,
      "outputs": []
    },
    {
      "cell_type": "code",
      "source": [],
      "metadata": {
        "id": "6Z-afGG7SoSx"
      },
      "execution_count": null,
      "outputs": []
    },
    {
      "cell_type": "code",
      "source": [
        "import cv2\n",
        "import os\n",
        "import numpy as np\n",
        "import supervision as sv\n",
        "import torch\n",
        "from tqdm import tqdm\n",
        "from segment_anything import sam_model_registry, SamAutomaticMaskGenerator, SamPredictor"
      ],
      "metadata": {
        "id": "pZO_rOeYSoWq"
      },
      "execution_count": null,
      "outputs": []
    },
    {
      "cell_type": "code",
      "source": [
        "pwd"
      ],
      "metadata": {
        "id": "3XE8T3HqSoYQ"
      },
      "execution_count": null,
      "outputs": []
    },
    {
      "cell_type": "code",
      "source": [
        "cd drive"
      ],
      "metadata": {
        "id": "znuH4s-zSfWs"
      },
      "execution_count": null,
      "outputs": []
    },
    {
      "cell_type": "code",
      "source": [
        "cd MyDrive"
      ],
      "metadata": {
        "id": "T2ljZyXSSfYh"
      },
      "execution_count": null,
      "outputs": []
    },
    {
      "cell_type": "code",
      "source": [
        "cd dnn_model"
      ],
      "metadata": {
        "id": "PRI-a7ykS4gw"
      },
      "execution_count": null,
      "outputs": []
    },
    {
      "cell_type": "code",
      "source": [
        "pwd"
      ],
      "metadata": {
        "id": "BCOUskQiUezb"
      },
      "execution_count": null,
      "outputs": []
    },
    {
      "cell_type": "code",
      "source": [
        "#copy the above directory\n",
        "#paste it into cv2.dnn.readNet() below"
      ],
      "metadata": {
        "id": "Y-KRXQ-qS4jG"
      },
      "execution_count": null,
      "outputs": []
    },
    {
      "cell_type": "code",
      "source": [
        "class VehicleDetector:\n",
        "\n",
        "    def __init__(self):\n",
        "        # Load Network\n",
        "        net = cv2.dnn.readNet(\"/content/drive/.shortcut-targets-by-id/15CA35YuW2XOA8fXZRHR5CS8xCcUzCXo3/dnn_model/yolov4.weights\", \"/content/drive/.shortcut-targets-by-id/15CA35YuW2XOA8fXZRHR5CS8xCcUzCXo3/dnn_model/yolov4.cfg\")\n",
        "        self.model = cv2.dnn_DetectionModel(net)\n",
        "        self.model.setInputParams(size=(832, 832), scale=1 / 255)\n",
        "\n",
        "\n",
        "        # Allow classes containing Vehicles only\n",
        "        self.classes_allowed = [2, 3, 5, 6, 7]\n",
        "\n",
        "\n",
        "    def detect_vehicles(self, img):\n",
        "        # Detect Objects\n",
        "        vehicles_boxes = []\n",
        "        scoress=[]\n",
        "        class_ids, scores, boxes = self.model.detect(img, nmsThreshold=0.4)\n",
        "\n",
        "        # if there is no prediction (len(scores)==0), then just return the empty list\n",
        "        # else just return the box that has the highest score\n",
        "\n",
        "        if len(scores) == 0:\n",
        "\n",
        "          return []\n",
        "\n",
        "        else:\n",
        "\n",
        "          for class_id, score, box in zip(class_ids, scores, boxes):\n",
        "              #if score < 0.5:\n",
        "                  # Skip detection with low confidence\n",
        "                  #continue\n",
        "\n",
        "              if class_id in self.classes_allowed:\n",
        "                  vehicles_boxes.append(box)\n",
        "                  scoress.append(score)\n",
        "\n",
        "        max_index=np.argmax(scoress)\n",
        "        vehicle_box=vehicles_boxes[max_index]\n",
        "\n",
        "        return vehicle_box\n",
        "\n",
        ""
      ],
      "metadata": {
        "id": "Uyfs_UNYS4k8"
      },
      "execution_count": null,
      "outputs": []
    },
    {
      "cell_type": "code",
      "source": [
        "# Instantiating the car detection model\n",
        "vd=VehicleDetector()"
      ],
      "metadata": {
        "id": "GtTLAjlaS8qZ"
      },
      "execution_count": null,
      "outputs": []
    },
    {
      "cell_type": "code",
      "source": [
        "#LOADING THE SAM MODEL\n",
        "DEVICE = torch.device('cuda:0' if torch.cuda.is_available() else 'cpu')\n",
        "MODEL_TYPE = \"vit_h\"\n",
        "\n",
        "sam = sam_model_registry[MODEL_TYPE](checkpoint=CHECKPOINT_PATH).to(device=DEVICE)\n",
        "mask_generator = SamAutomaticMaskGenerator(sam)"
      ],
      "metadata": {
        "id": "4phoSCb2TAQV"
      },
      "execution_count": null,
      "outputs": []
    },
    {
      "cell_type": "code",
      "source": [
        "mask_predictor = SamPredictor(sam)"
      ],
      "metadata": {
        "id": "ReF3CvwrTAUg"
      },
      "execution_count": null,
      "outputs": []
    },
    {
      "cell_type": "code",
      "source": [
        "HASARLI_dir=\"/content/drive/MyDrive/DS542_FINAL_PROJECT_DATASET/HASARLI_BLURRED\"\n",
        "\n",
        "HASARLI=[file for file in os.listdir(HASARLI_dir) if file.lower().endswith(('.png', '.jpg', '.jpeg'))]"
      ],
      "metadata": {
        "id": "vpHuEAx2TAXE"
      },
      "execution_count": null,
      "outputs": []
    },
    {
      "cell_type": "code",
      "source": [
        "\n",
        "\n",
        "for image_path in tqdm(HASARLI):\n",
        "\n",
        "  IMAGE_PATH=\"/content/drive/MyDrive/DS542_FINAL_PROJECT_DATASET/HASARLI_BLURRED/\"+image_path\n",
        "  #IMAGE_PATH=\"/content/drive/MyDrive/DENEME/HASARLI/\"+image_path\n",
        "\n",
        "  image_bgr = cv2.imread(IMAGE_PATH)\n",
        "  #image_rgb = cv2.cvtColor(image_bgr, cv2.COLOR_BGR2RGB)\n",
        "\n",
        "  vehicle_boxes=vd.detect_vehicles(image_bgr)\n",
        "\n",
        "  if len(vehicle_boxes)==0:\n",
        "    #direct image seg\n",
        "    sam_result = mask_generator.generate(image_bgr)\n",
        "    biggest_seg=sorted(sam_result, key=lambda x: x['area'], reverse=True)[0]\n",
        "    mask=biggest_seg['segmentation']\n",
        "\n",
        "  else:\n",
        "    x,y,w,h=vehicle_boxes\n",
        "    box=np.array([x,y,x+w, y+h])\n",
        "\n",
        "    mask_predictor.set_image(image_bgr)\n",
        "\n",
        "    masks, scores, logits = mask_predictor.predict(\n",
        "        box=box,\n",
        "        multimask_output=True\n",
        "    )\n",
        "\n",
        "    detections = sv.Detections(\n",
        "        xyxy=sv.mask_to_xyxy(masks=masks),\n",
        "        mask=masks\n",
        "    )\n",
        "\n",
        "    detections = detections[detections.area == np.max(detections.area)]\n",
        "\n",
        "    mask=detections.mask[0]\n",
        "\n",
        "  segmented_image = image_bgr.copy()\n",
        "  segmented_image[~mask] = (0, 0, 0)\n",
        "\n",
        "  output_path = \"/content/drive/MyDrive/segment_results/HASARLI_segmented/\" + image_path\n",
        "  cv2.imwrite(output_path, segmented_image)\n",
        "\n",
        "\n"
      ],
      "metadata": {
        "id": "rK_wtdE3S8tR"
      },
      "execution_count": null,
      "outputs": []
    },
    {
      "cell_type": "code",
      "source": [],
      "metadata": {
        "id": "zwki1HhGTJLM"
      },
      "execution_count": null,
      "outputs": []
    },
    {
      "cell_type": "code",
      "source": [
        "HASARSIZ_dir=\"/content/drive/MyDrive/DS542_FINAL_PROJECT_DATASET/HASARSIZ_BLURRED\"\n",
        "\n",
        "HASARSIZ=[file for file in os.listdir(HASARSIZ_dir) if file.lower().endswith(('.png', '.jpg', '.jpeg'))]"
      ],
      "metadata": {
        "id": "3nw0_rW1TJNy"
      },
      "execution_count": null,
      "outputs": []
    },
    {
      "cell_type": "code",
      "source": [
        "\n",
        "\n",
        "for image_path in tqdm(HASARSIZ):\n",
        "\n",
        "  IMAGE_PATH=\"/content/drive/MyDrive/DS542_FINAL_PROJECT_DATASET/HASARSIZ_BLURRED/\"+image_path\n",
        "  #IMAGE_PATH=\"/content/drive/MyDrive/DENEME/HASARLI/\"+image_path\n",
        "\n",
        "  image_bgr = cv2.imread(IMAGE_PATH)\n",
        "  #image_rgb = cv2.cvtColor(image_bgr, cv2.COLOR_BGR2RGB)\n",
        "\n",
        "  vehicle_boxes=vd.detect_vehicles(image_bgr)\n",
        "\n",
        "  if len(vehicle_boxes)==0:\n",
        "    #direct image seg\n",
        "    sam_result = mask_generator.generate(image_bgr)\n",
        "    biggest_seg=sorted(sam_result, key=lambda x: x['area'], reverse=True)[0]\n",
        "    mask=biggest_seg['segmentation']\n",
        "\n",
        "  else:\n",
        "    x,y,w,h=vehicle_boxes\n",
        "    box=np.array([x,y,x+w, y+h])\n",
        "\n",
        "    mask_predictor.set_image(image_bgr)\n",
        "\n",
        "    masks, scores, logits = mask_predictor.predict(\n",
        "        box=box,\n",
        "        multimask_output=True\n",
        "    )\n",
        "\n",
        "    detections = sv.Detections(\n",
        "        xyxy=sv.mask_to_xyxy(masks=masks),\n",
        "        mask=masks\n",
        "    )\n",
        "\n",
        "    detections = detections[detections.area == np.max(detections.area)]\n",
        "\n",
        "    mask=detections.mask[0]\n",
        "\n",
        "  segmented_image = image_bgr.copy()\n",
        "  segmented_image[~mask] = (0, 0, 0)\n",
        "\n",
        "  output_path = \"/content/drive/MyDrive/segment_results/HASARSIZ_segmented/\" + image_path\n",
        "  cv2.imwrite(output_path, segmented_image)\n",
        "\n",
        "\n"
      ],
      "metadata": {
        "id": "tWBIW18sTJPD"
      },
      "execution_count": null,
      "outputs": []
    },
    {
      "cell_type": "code",
      "source": [],
      "metadata": {
        "id": "2VWV5B-uS4nB"
      },
      "execution_count": null,
      "outputs": []
    },
    {
      "cell_type": "code",
      "source": [],
      "metadata": {
        "id": "m8hb5v6TSfaW"
      },
      "execution_count": null,
      "outputs": []
    }
  ]
}