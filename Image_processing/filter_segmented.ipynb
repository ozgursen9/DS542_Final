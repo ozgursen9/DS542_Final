{
  "nbformat": 4,
  "nbformat_minor": 0,
  "metadata": {
    "colab": {
      "provenance": []
    },
    "kernelspec": {
      "name": "python3",
      "display_name": "Python 3"
    },
    "language_info": {
      "name": "python"
    }
  },
  "cells": [
    {
      "cell_type": "code",
      "execution_count": 2,
      "metadata": {
        "colab": {
          "base_uri": "https://localhost:8080/"
        },
        "id": "o0An4EkSejA3",
        "outputId": "ee048e70-7915-4261-9580-3964b079479b"
      },
      "outputs": [
        {
          "output_type": "stream",
          "name": "stdout",
          "text": [
            "Drive already mounted at /content/drive; to attempt to forcibly remount, call drive.mount(\"/content/drive\", force_remount=True).\n"
          ]
        }
      ],
      "source": [
        "from google.colab import drive\n",
        "drive.mount('/content/drive')"
      ]
    },
    {
      "cell_type": "code",
      "source": [
        "import cv2\n",
        "import os\n",
        "import numpy as np\n",
        "from tqdm import tqdm\n",
        "from PIL import Image\n"
      ],
      "metadata": {
        "id": "guKkjzHKekHg"
      },
      "execution_count": 3,
      "outputs": []
    },
    {
      "cell_type": "code",
      "source": [
        "pwd"
      ],
      "metadata": {
        "colab": {
          "base_uri": "https://localhost:8080/",
          "height": 35
        },
        "id": "nwev_S8MmcB_",
        "outputId": "b8ab4e3e-5c58-4dab-818a-13767e5db71f"
      },
      "execution_count": 4,
      "outputs": [
        {
          "output_type": "execute_result",
          "data": {
            "text/plain": [
              "'/content'"
            ],
            "application/vnd.google.colaboratory.intrinsic+json": {
              "type": "string"
            }
          },
          "metadata": {},
          "execution_count": 4
        }
      ]
    },
    {
      "cell_type": "code",
      "source": [
        "cd reduced_results"
      ],
      "metadata": {
        "colab": {
          "base_uri": "https://localhost:8080/"
        },
        "id": "3jc7hC2ImQln",
        "outputId": "1fdfde7b-8b1a-46fe-e127-5d6e0145d6e7"
      },
      "execution_count": 10,
      "outputs": [
        {
          "output_type": "stream",
          "name": "stdout",
          "text": [
            "/content/drive/.shortcut-targets-by-id/1ECDDgHtfJFh_z_g8OSUyWz1V2dnDw6ci/reduced_results\n"
          ]
        }
      ]
    },
    {
      "cell_type": "code",
      "source": [
        "def percentage_black_pixels(img):\n",
        "\n",
        "  img_array = np.array(img)\n",
        "  flattened_array = img_array.flatten()\n",
        "\n",
        "  total_pixels = flattened_array.size\n",
        "\n",
        "  black_pixel_count = np.sum(flattened_array == 0)\n",
        "  black_pixel_percentage = black_pixel_count / total_pixels\n",
        "\n",
        "  return black_pixel_percentage\n",
        "\n",
        "\n",
        "def extract_bad_images_HASARLI():\n",
        "\n",
        "\n",
        "  HASARLI_dir=\"/content/drive/MyDrive/segment_results/HASARLI_segmented/\"\n",
        "\n",
        "  HASARLI=[file for file in os.listdir(HASARLI_dir) if file.lower().endswith(('.png', '.jpg', '.jpeg'))]\n",
        "\n",
        "  for image in tqdm(HASARLI):\n",
        "    IMAGE_PATH=HASARLI_dir+image\n",
        "\n",
        "    img0 = Image.open(IMAGE_PATH).convert('L')\n",
        "\n",
        "    if percentage_black_pixels(img0) < 0.8:\n",
        "      img = cv2.imread(IMAGE_PATH)\n",
        "      output_path = \"/content/drive/.shortcut-targets-by-id/1ECDDgHtfJFh_z_g8OSUyWz1V2dnDw6ci/reduced_results/HASARLI_reduced/\" + image\n",
        "      cv2.imwrite(output_path, img)\n",
        "\n",
        "\n",
        "def extract_bad_images_HASARSIZ():\n",
        "\n",
        "\n",
        "  HASARSIZ_dir=\"/content/drive/MyDrive/segment_results/HASARSIZ_segmented/\"\n",
        "\n",
        "  HASARSIZ=[file for file in os.listdir(HASARSIZ_dir) if file.lower().endswith(('.png', '.jpg', '.jpeg'))]\n",
        "\n",
        "  for image in tqdm(HASARSIZ):\n",
        "    IMAGE_PATH=HASARSIZ_dir+image\n",
        "\n",
        "    img0 = Image.open(IMAGE_PATH).convert('L')\n",
        "\n",
        "    if percentage_black_pixels(img0) < 0.8:\n",
        "      img = cv2.imread(IMAGE_PATH)\n",
        "      output_path = \"/content/drive/.shortcut-targets-by-id/1ECDDgHtfJFh_z_g8OSUyWz1V2dnDw6ci/reduced_results/HASARSIZ_reduced/\" + image\n",
        "      cv2.imwrite(output_path, img)\n",
        "\n",
        "\n"
      ],
      "metadata": {
        "id": "25LvKnE6sL0v"
      },
      "execution_count": 9,
      "outputs": []
    },
    {
      "cell_type": "code",
      "source": [
        "extract_bad_images_HASARSIZ()"
      ],
      "metadata": {
        "id": "iTlrsOeHmwkl",
        "colab": {
          "base_uri": "https://localhost:8080/"
        },
        "outputId": "ee1b6bf1-0648-4265-aa70-f1e8b3fd6d78"
      },
      "execution_count": 11,
      "outputs": [
        {
          "output_type": "stream",
          "name": "stderr",
          "text": [
            "100%|██████████| 4999/4999 [07:30<00:00, 11.10it/s]\n"
          ]
        }
      ]
    },
    {
      "cell_type": "code",
      "source": [],
      "metadata": {
        "id": "iz0HNbqYhyPD"
      },
      "execution_count": null,
      "outputs": []
    },
    {
      "cell_type": "code",
      "source": [],
      "metadata": {
        "id": "zJhtX0-NsLw3"
      },
      "execution_count": null,
      "outputs": []
    },
    {
      "cell_type": "code",
      "source": [],
      "metadata": {
        "id": "8uWSMC_6sLyq"
      },
      "execution_count": null,
      "outputs": []
    },
    {
      "cell_type": "code",
      "source": [],
      "metadata": {
        "id": "cIDmtvQXsL2i"
      },
      "execution_count": null,
      "outputs": []
    },
    {
      "cell_type": "code",
      "source": [],
      "metadata": {
        "id": "6XsQlB_msL4I"
      },
      "execution_count": null,
      "outputs": []
    },
    {
      "cell_type": "code",
      "source": [],
      "metadata": {
        "id": "nYXv7j8nekQF"
      },
      "execution_count": null,
      "outputs": []
    }
  ]
}